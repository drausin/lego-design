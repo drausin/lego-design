{
 "cells": [
  {
   "cell_type": "code",
   "execution_count": 7,
   "id": "initial_id",
   "metadata": {
    "collapsed": true,
    "ExecuteTime": {
     "end_time": "2023-11-20T02:33:41.245114Z",
     "start_time": "2023-11-20T02:33:41.232735Z"
    }
   },
   "outputs": [],
   "source": [
    "import pandas as pd\n",
    "import os\n",
    "from tqdm import tqdm\n",
    "\n",
    "from PIL import Image\n",
    "import matplotlib.pyplot as plt\n",
    "import numpy as np\n"
   ]
  },
  {
   "cell_type": "markdown",
   "source": [
    "## load parts data"
   ],
   "metadata": {
    "collapsed": false
   },
   "id": "9c25350335cf37a"
  },
  {
   "cell_type": "code",
   "execution_count": 8,
   "outputs": [],
   "source": [
    "data_dir = \"../data\""
   ],
   "metadata": {
    "collapsed": false,
    "ExecuteTime": {
     "end_time": "2023-11-20T02:33:41.713293Z",
     "start_time": "2023-11-20T02:33:41.701282Z"
    }
   },
   "id": "6d4360aa2b016a58"
  },
  {
   "cell_type": "code",
   "execution_count": 9,
   "outputs": [
    {
     "data": {
      "text/plain": "  part_num                                        name  part_cat_id  \\\n0   003381                 Sticker Sheet for Set 663-1           58   \n1   003383         Sticker Sheet for Sets 618-1, 628-2           58   \n2   003402  Sticker Sheet for Sets 310-3, 311-1, 312-3           58   \n3   003429                Sticker Sheet for Set 1550-1           58   \n4   003432  Sticker Sheet for Sets 357-1, 355-1, 940-1           58   \n\n  part_material  \n0       Plastic  \n1       Plastic  \n2       Plastic  \n3       Plastic  \n4       Plastic  ",
      "text/html": "<div>\n<style scoped>\n    .dataframe tbody tr th:only-of-type {\n        vertical-align: middle;\n    }\n\n    .dataframe tbody tr th {\n        vertical-align: top;\n    }\n\n    .dataframe thead th {\n        text-align: right;\n    }\n</style>\n<table border=\"1\" class=\"dataframe\">\n  <thead>\n    <tr style=\"text-align: right;\">\n      <th></th>\n      <th>part_num</th>\n      <th>name</th>\n      <th>part_cat_id</th>\n      <th>part_material</th>\n    </tr>\n  </thead>\n  <tbody>\n    <tr>\n      <th>0</th>\n      <td>003381</td>\n      <td>Sticker Sheet for Set 663-1</td>\n      <td>58</td>\n      <td>Plastic</td>\n    </tr>\n    <tr>\n      <th>1</th>\n      <td>003383</td>\n      <td>Sticker Sheet for Sets 618-1, 628-2</td>\n      <td>58</td>\n      <td>Plastic</td>\n    </tr>\n    <tr>\n      <th>2</th>\n      <td>003402</td>\n      <td>Sticker Sheet for Sets 310-3, 311-1, 312-3</td>\n      <td>58</td>\n      <td>Plastic</td>\n    </tr>\n    <tr>\n      <th>3</th>\n      <td>003429</td>\n      <td>Sticker Sheet for Set 1550-1</td>\n      <td>58</td>\n      <td>Plastic</td>\n    </tr>\n    <tr>\n      <th>4</th>\n      <td>003432</td>\n      <td>Sticker Sheet for Sets 357-1, 355-1, 940-1</td>\n      <td>58</td>\n      <td>Plastic</td>\n    </tr>\n  </tbody>\n</table>\n</div>"
     },
     "execution_count": 9,
     "metadata": {},
     "output_type": "execute_result"
    }
   ],
   "source": [
    "parts_meta = pd.read_csv(os.path.join(data_dir, \"catalog_db\", \"parts.csv.gz\"))\n",
    "parts_meta.head()"
   ],
   "metadata": {
    "collapsed": false,
    "ExecuteTime": {
     "end_time": "2023-11-20T02:33:41.999990Z",
     "start_time": "2023-11-20T02:33:41.877929Z"
    }
   },
   "id": "e4af6062bc05c005"
  },
  {
   "cell_type": "code",
   "execution_count": 10,
   "outputs": [
    {
     "data": {
      "text/plain": "   id                     name\n0   1               Baseplates\n1   3            Bricks Sloped\n2   4  Duplo, Quatro and Primo\n3   5           Bricks Special\n4   6            Bricks Wedged\n5   7               Containers\n6   8           Technic Bricks\n7   9           Plates Special\n8  11                   Bricks\n9  12       Technic Connectors",
      "text/html": "<div>\n<style scoped>\n    .dataframe tbody tr th:only-of-type {\n        vertical-align: middle;\n    }\n\n    .dataframe tbody tr th {\n        vertical-align: top;\n    }\n\n    .dataframe thead th {\n        text-align: right;\n    }\n</style>\n<table border=\"1\" class=\"dataframe\">\n  <thead>\n    <tr style=\"text-align: right;\">\n      <th></th>\n      <th>id</th>\n      <th>name</th>\n    </tr>\n  </thead>\n  <tbody>\n    <tr>\n      <th>0</th>\n      <td>1</td>\n      <td>Baseplates</td>\n    </tr>\n    <tr>\n      <th>1</th>\n      <td>3</td>\n      <td>Bricks Sloped</td>\n    </tr>\n    <tr>\n      <th>2</th>\n      <td>4</td>\n      <td>Duplo, Quatro and Primo</td>\n    </tr>\n    <tr>\n      <th>3</th>\n      <td>5</td>\n      <td>Bricks Special</td>\n    </tr>\n    <tr>\n      <th>4</th>\n      <td>6</td>\n      <td>Bricks Wedged</td>\n    </tr>\n    <tr>\n      <th>5</th>\n      <td>7</td>\n      <td>Containers</td>\n    </tr>\n    <tr>\n      <th>6</th>\n      <td>8</td>\n      <td>Technic Bricks</td>\n    </tr>\n    <tr>\n      <th>7</th>\n      <td>9</td>\n      <td>Plates Special</td>\n    </tr>\n    <tr>\n      <th>8</th>\n      <td>11</td>\n      <td>Bricks</td>\n    </tr>\n    <tr>\n      <th>9</th>\n      <td>12</td>\n      <td>Technic Connectors</td>\n    </tr>\n  </tbody>\n</table>\n</div>"
     },
     "execution_count": 10,
     "metadata": {},
     "output_type": "execute_result"
    }
   ],
   "source": [
    "part_categories = pd.read_csv(os.path.join(data_dir, \"catalog_db\", \"part_categories.csv.gz\"))\n",
    "part_categories.head(10)"
   ],
   "metadata": {
    "collapsed": false,
    "ExecuteTime": {
     "end_time": "2023-11-20T02:33:42.176758Z",
     "start_time": "2023-11-20T02:33:42.085159Z"
    }
   },
   "id": "c5824612f6d7899e"
  },
  {
   "cell_type": "code",
   "execution_count": 11,
   "outputs": [
    {
     "data": {
      "text/plain": "                                                name  part_cat_id  \\\npart_num                                                            \n003381                   Sticker Sheet for Set 663-1           58   \n003383           Sticker Sheet for Sets 618-1, 628-2           58   \n003402    Sticker Sheet for Sets 310-3, 311-1, 312-3           58   \n003429                  Sticker Sheet for Set 1550-1           58   \n003432    Sticker Sheet for Sets 357-1, 355-1, 940-1           58   \n\n         part_material part_cat_name  \npart_num                              \n003381         Plastic      Stickers  \n003383         Plastic      Stickers  \n003402         Plastic      Stickers  \n003429         Plastic      Stickers  \n003432         Plastic      Stickers  ",
      "text/html": "<div>\n<style scoped>\n    .dataframe tbody tr th:only-of-type {\n        vertical-align: middle;\n    }\n\n    .dataframe tbody tr th {\n        vertical-align: top;\n    }\n\n    .dataframe thead th {\n        text-align: right;\n    }\n</style>\n<table border=\"1\" class=\"dataframe\">\n  <thead>\n    <tr style=\"text-align: right;\">\n      <th></th>\n      <th>name</th>\n      <th>part_cat_id</th>\n      <th>part_material</th>\n      <th>part_cat_name</th>\n    </tr>\n    <tr>\n      <th>part_num</th>\n      <th></th>\n      <th></th>\n      <th></th>\n      <th></th>\n    </tr>\n  </thead>\n  <tbody>\n    <tr>\n      <th>003381</th>\n      <td>Sticker Sheet for Set 663-1</td>\n      <td>58</td>\n      <td>Plastic</td>\n      <td>Stickers</td>\n    </tr>\n    <tr>\n      <th>003383</th>\n      <td>Sticker Sheet for Sets 618-1, 628-2</td>\n      <td>58</td>\n      <td>Plastic</td>\n      <td>Stickers</td>\n    </tr>\n    <tr>\n      <th>003402</th>\n      <td>Sticker Sheet for Sets 310-3, 311-1, 312-3</td>\n      <td>58</td>\n      <td>Plastic</td>\n      <td>Stickers</td>\n    </tr>\n    <tr>\n      <th>003429</th>\n      <td>Sticker Sheet for Set 1550-1</td>\n      <td>58</td>\n      <td>Plastic</td>\n      <td>Stickers</td>\n    </tr>\n    <tr>\n      <th>003432</th>\n      <td>Sticker Sheet for Sets 357-1, 355-1, 940-1</td>\n      <td>58</td>\n      <td>Plastic</td>\n      <td>Stickers</td>\n    </tr>\n  </tbody>\n</table>\n</div>"
     },
     "execution_count": 11,
     "metadata": {},
     "output_type": "execute_result"
    }
   ],
   "source": [
    "parts_meta = (\n",
    "    parts_meta\n",
    "    .join(part_categories.set_index('id').rename({'name': 'part_cat_name'}, axis=1), on='part_cat_id', how='left')\n",
    "    .set_index('part_num')\n",
    ")\n",
    "parts_meta.head()"
   ],
   "metadata": {
    "collapsed": false,
    "ExecuteTime": {
     "end_time": "2023-11-20T02:33:42.339667Z",
     "start_time": "2023-11-20T02:33:42.261373Z"
    }
   },
   "id": "e551477426d1b1b"
  },
  {
   "cell_type": "code",
   "execution_count": 12,
   "outputs": [
    {
     "data": {
      "text/plain": "part_cat_name\nMinifig Upper Body         6337\nDuplo, Quatro and Primo    4758\nMinifig Heads              4405\nNon-LEGO                   3963\nStickers                   3881\n                           ... \nTechnic Axles                27\nTechnic Bricks               27\nTools                        22\nZnap                         22\nTechnic Bushes                7\nName: count, Length: 66, dtype: int64"
     },
     "execution_count": 12,
     "metadata": {},
     "output_type": "execute_result"
    }
   ],
   "source": [
    "parts_meta['part_cat_name'].value_counts()"
   ],
   "metadata": {
    "collapsed": false,
    "ExecuteTime": {
     "end_time": "2023-11-20T02:33:42.572074Z",
     "start_time": "2023-11-20T02:33:42.466884Z"
    }
   },
   "id": "f22ceab25d310dd"
  },
  {
   "cell_type": "code",
   "execution_count": 13,
   "outputs": [
    {
     "name": "stderr",
     "output_type": "stream",
     "text": [
      "100%|██████████| 52771/52771 [00:40<00:00, 1297.29it/s]\n"
     ]
    }
   ],
   "source": [
    "part_images = []\n",
    "\n",
    "for part_num in tqdm(parts_meta.index.values):\n",
    "    part_filename = os.path.join(data_dir, \"ldraw_images\", f\"{part_num}.png\")\n",
    "    if os.path.exists(part_filename):\n",
    "       part_images.append(np.array(Image.open(part_filename)))\n",
    "    else:\n",
    "        part_images.append(None)\n",
    "        \n",
    "parts_meta['part_image'] = part_images\n",
    "    "
   ],
   "metadata": {
    "collapsed": false,
    "ExecuteTime": {
     "end_time": "2023-11-20T02:34:23.412362Z",
     "start_time": "2023-11-20T02:33:42.601887Z"
    }
   },
   "id": "78af4731e3fd934d"
  },
  {
   "cell_type": "code",
   "execution_count": 14,
   "outputs": [],
   "source": [
    "parts_meta['part_image_shape'] = parts_meta['part_image'].map(lambda x: x.shape if x is not None else None)"
   ],
   "metadata": {
    "collapsed": false,
    "ExecuteTime": {
     "end_time": "2023-11-20T02:34:23.496335Z",
     "start_time": "2023-11-20T02:34:23.454908Z"
    }
   },
   "id": "364f53deebe86054"
  },
  {
   "cell_type": "code",
   "execution_count": 15,
   "outputs": [
    {
     "data": {
      "text/plain": "part_cat_name\nMinifig Accessories                             663\nMinifig Headwear                                339\nLarge Buildable Figures                         303\nPlants and Animals                              253\nWindows and Doors                               247\n                                               ... \nHO Scale                                          3\nModulex                                           2\nNon-Buildable Figures (Duplo, Fabuland, etc)      1\nMinidoll Lower Body                               1\nMinidoll Heads                                    1\nName: count, Length: 65, dtype: int64"
     },
     "execution_count": 15,
     "metadata": {},
     "output_type": "execute_result"
    }
   ],
   "source": [
    "parts_meta['part_cat_name'][(~parts_meta['part_image'].isna())].value_counts()"
   ],
   "metadata": {
    "collapsed": false,
    "ExecuteTime": {
     "end_time": "2023-11-20T02:34:23.523669Z",
     "start_time": "2023-11-20T02:34:23.475346Z"
    }
   },
   "id": "1ca05880afbe7505"
  },
  {
   "cell_type": "code",
   "execution_count": 16,
   "outputs": [
    {
     "data": {
      "text/plain": "part_image_shape\n(500, 500, 3)    5410\n(75, 100, 3)      156\n(250, 250, 3)      31\n(200, 200, 3)      12\n(75, 100)           5\n(187, 250, 3)       1\n(500, 500)          1\nName: count, dtype: int64"
     },
     "execution_count": 16,
     "metadata": {},
     "output_type": "execute_result"
    }
   ],
   "source": [
    "parts_meta['part_image_shape'].value_counts()"
   ],
   "metadata": {
    "collapsed": false,
    "ExecuteTime": {
     "end_time": "2023-11-20T02:34:23.588291Z",
     "start_time": "2023-11-20T02:34:23.513282Z"
    }
   },
   "id": "35bfc9268df2581e"
  },
  {
   "cell_type": "markdown",
   "source": [
    "### inspect part images"
   ],
   "metadata": {
    "collapsed": false
   },
   "id": "4c738197a5e5d80a"
  },
  {
   "cell_type": "code",
   "execution_count": 54,
   "outputs": [],
   "source": [
    "import numpy as np\n",
    "import cv2\n",
    "from PIL import Image, ImageDraw, ImageFont"
   ],
   "metadata": {
    "collapsed": false,
    "ExecuteTime": {
     "end_time": "2023-11-19T20:47:16.608132Z",
     "start_time": "2023-11-19T20:47:16.602936Z"
    }
   },
   "id": "93d7f36cac40b0c8"
  },
  {
   "cell_type": "code",
   "execution_count": 55,
   "outputs": [],
   "source": [
    "# Function to add text to an image\n",
    "def add_text_to_image(image, text, position, font_size, color):\n",
    "    draw = ImageDraw.Draw(image)\n",
    "    font = ImageFont.load_default()\n",
    "    draw.text(position, text, fill=color, font=font)\n",
    "    return image\n",
    "\n",
    "# Main loop\n",
    "for index, row in parts_meta.iterrows():\n",
    "    if row['part_image'] is None:\n",
    "        continue\n",
    "    \n",
    "    image = Image.fromarray(row['part_image'])\n",
    "\n",
    "    # Add text\n",
    "    image = add_text_to_image(image, f\"Part Num: {index}\", (10, 10), 12, 'black')\n",
    "    image = add_text_to_image(image, f\"Name: {row['name']}\", (10, 40), 12, 'black')\n",
    "    image = add_text_to_image(image, f\"Category: {row['part_cat_name']}\", (10, 70), 12, 'black')\n",
    "\n",
    "    # Convert to format suitable for OpenCV\n",
    "    image = cv2.cvtColor(np.array(image), cv2.COLOR_RGB2BGR)\n",
    "\n",
    "    # Display image\n",
    "    cv2.imshow('Part Image', image)\n",
    "\n",
    "    # Wait for user input; break the loop if the key is not spacebar\n",
    "    key = cv2.waitKey(0)\n",
    "    if key != 32:  # 32 is the ASCII code for spacebar\n",
    "        break\n",
    "\n",
    "cv2.destroyAllWindows()"
   ],
   "metadata": {
    "collapsed": false,
    "ExecuteTime": {
     "end_time": "2023-11-19T20:48:18.743778Z",
     "start_time": "2023-11-19T20:47:17.197405Z"
    }
   },
   "id": "908ed2846955eb23"
  },
  {
   "cell_type": "code",
   "execution_count": null,
   "outputs": [],
   "source": [],
   "metadata": {
    "collapsed": false
   },
   "id": "39839e168f11f3b2"
  }
 ],
 "metadata": {
  "kernelspec": {
   "display_name": "Python 3",
   "language": "python",
   "name": "python3"
  },
  "language_info": {
   "codemirror_mode": {
    "name": "ipython",
    "version": 2
   },
   "file_extension": ".py",
   "mimetype": "text/x-python",
   "name": "python",
   "nbconvert_exporter": "python",
   "pygments_lexer": "ipython2",
   "version": "2.7.6"
  }
 },
 "nbformat": 4,
 "nbformat_minor": 5
}
