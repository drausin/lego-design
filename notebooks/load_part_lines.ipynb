{
 "cells": [
  {
   "cell_type": "code",
   "execution_count": 4,
   "id": "initial_id",
   "metadata": {
    "collapsed": true,
    "ExecuteTime": {
     "end_time": "2023-11-22T02:52:32.998840Z",
     "start_time": "2023-11-22T02:52:32.994622Z"
    }
   },
   "outputs": [],
   "source": [
    "import os\n",
    "import glob\n",
    "from tqdm import tqdm"
   ]
  },
  {
   "cell_type": "code",
   "execution_count": 8,
   "outputs": [],
   "source": [
    "def find_and_read_parts(parts_dir: str):\n",
    "    # Check if the directory exists\n",
    "    if not os.path.isdir(parts_dir):\n",
    "        raise FileNotFoundError(f\"The directory {parts_dir} does not exist.\")\n",
    "\n",
    "    parts_content = {}\n",
    "\n",
    "    # Search for .dat files in the directory and subdirectories\n",
    "    for filepath in tqdm(glob.glob(os.path.join(parts_dir, '**/*.dat'), recursive=True)):\n",
    "        try:\n",
    "            with open(filepath, 'r') as file:\n",
    "                key = filepath.replace(parts_dir + \"/\", \"\")\n",
    "                parts_content[key] = file.readlines()\n",
    "        except Exception as e:\n",
    "            print(f\"Error reading {filepath}: {e}\")\n",
    "\n",
    "    return parts_content"
   ],
   "metadata": {
    "collapsed": false,
    "ExecuteTime": {
     "end_time": "2023-11-22T02:54:28.655070Z",
     "start_time": "2023-11-22T02:54:28.632017Z"
    }
   },
   "id": "1aef5e0557268fd2"
  },
  {
   "cell_type": "code",
   "execution_count": 9,
   "outputs": [
    {
     "name": "stderr",
     "output_type": "stream",
     "text": [
      " 73%|███████▎  | 17089/23559 [00:08<00:04, 1570.16it/s]"
     ]
    },
    {
     "name": "stdout",
     "output_type": "stream",
     "text": [
      "Error reading /Users/drausin/git/github.com/drausin/lego-design/data/ldraw/parts/s/87606s01.dat: 'utf-8' codec can't decode byte 0xb0 in position 2054: invalid start byte\n"
     ]
    },
    {
     "name": "stderr",
     "output_type": "stream",
     "text": [
      " 76%|███████▌  | 17940/23559 [00:09<00:03, 1669.00it/s]"
     ]
    },
    {
     "name": "stdout",
     "output_type": "stream",
     "text": [
      "Error reading /Users/drausin/git/github.com/drausin/lego-design/data/ldraw/parts/s/2902s01.dat: 'utf-8' codec can't decode byte 0xe9 in position 1454: invalid continuation byte\n"
     ]
    },
    {
     "name": "stderr",
     "output_type": "stream",
     "text": [
      "100%|██████████| 23559/23559 [00:12<00:00, 1924.18it/s]\n"
     ]
    }
   ],
   "source": [
    "parts_content = find_and_read_parts('/Users/drausin/git/github.com/drausin/lego-design/data/ldraw')"
   ],
   "metadata": {
    "collapsed": false,
    "ExecuteTime": {
     "end_time": "2023-11-22T02:54:54.112729Z",
     "start_time": "2023-11-22T02:54:41.644156Z"
    }
   },
   "id": "6aa351270c464e8a"
  },
  {
   "cell_type": "code",
   "execution_count": 12,
   "outputs": [
    {
     "data": {
      "text/plain": "['parts/777.dat',\n 'parts/4162p0w.dat',\n 'parts/3002p27.dat',\n 'parts/22579.dat',\n 'parts/4586246c.dat',\n 'parts/75347.dat',\n 'parts/13710f.dat',\n 'parts/3062a.dat',\n 'parts/61332.dat',\n 'parts/3068bp8e.dat']"
     },
     "execution_count": 12,
     "metadata": {},
     "output_type": "execute_result"
    }
   ],
   "source": [
    "part_names = list(parts_content.keys())\n",
    "part_names[90:100]"
   ],
   "metadata": {
    "collapsed": false,
    "ExecuteTime": {
     "end_time": "2023-11-22T02:55:58.236436Z",
     "start_time": "2023-11-22T02:55:58.227975Z"
    }
   },
   "id": "cdb93d48519c90d8"
  },
  {
   "cell_type": "code",
   "execution_count": 15,
   "outputs": [
    {
     "data": {
      "text/plain": "['0 =Support  2 x  2 x 11 Solid Pillar\\n',\n '0 Name: 75347.dat\\n',\n '0 Author: Massimo Maso [Sirio]\\n',\n '0 !LDRAW_ORG Part Alias UPDATE 2017-01\\n',\n '0 !LICENSE Redistributable under CCAL version 2.0 : see CAreadme.txt\\n',\n '\\n',\n '0 BFC CERTIFY CW\\n',\n '\\n',\n '0 !HISTORY 2017-12-30 [PTadmin] Official Update 2017-01\\n',\n '\\n',\n '0 // Alias of 6168a\\n',\n '1 16 0 0 0 1 0 0 0 1 0 0 0 1 6168a.dat\\n']"
     },
     "execution_count": 15,
     "metadata": {},
     "output_type": "execute_result"
    }
   ],
   "source": [
    "parts_content[part_names[95]]"
   ],
   "metadata": {
    "collapsed": false,
    "ExecuteTime": {
     "end_time": "2023-11-22T02:57:10.472388Z",
     "start_time": "2023-11-22T02:57:10.463571Z"
    }
   },
   "id": "1b0b2ef126a5e709"
  },
  {
   "cell_type": "code",
   "execution_count": 17,
   "outputs": [
    {
     "data": {
      "text/plain": "['0 ~Support  2 x  2 x 11 Solid Pillar Base\\n',\n '0 Name: 6168.dat\\n',\n '0 Author: James Jessiman\\n',\n '0 !LDRAW_ORG Part UPDATE 2013-02\\n',\n '0 !LICENSE Redistributable under CCAL version 2.0 : see CAreadme.txt\\n',\n '\\n',\n '0 BFC CERTIFY CW\\n',\n '\\n',\n '0 !HISTORY 1998-09-15 [PTadmin] Official Update 1998-08\\n',\n '0 !HISTORY 2007-07-16 [PTadmin] Header formatted for Contributor Agreement\\n',\n '0 !HISTORY 2008-07-01 [PTadmin] Official Update 2008-01\\n',\n \"0 !HISTORY 2013-12-15 [mikeheide] BFC'ed, used more primitives\\n\",\n '0 !HISTORY 2013-12-23 [PTadmin] Official Update 2013-02\\n',\n '\\n',\n '1 16 0 244 0 8 0 0 0 1 0 0 0 8 4-4edge.dat\\n',\n '1 16 0 236 0 2 0 0 0 2.667 0 0 0 2 4-4con6.dat\\n',\n '1 16 0 238.667 0 4 0 0 0 5.333 0 0 0 4 4-4con2.dat\\n',\n '0 BFC INVERTNEXT\\n',\n '1 16 0 232 0 2 0 0 0 2.667 0 0 0 2 4-4con6.dat\\n',\n '0 BFC INVERTNEXT\\n',\n '1 16 0 234.667 0 4 0 0 0 5.333 0 0 0 4 4-4con2.dat\\n',\n '1 16 0 244 0 1 0 0 0 -5 0 0 0 1 STUD4A.dat\\n',\n '0 BFC INVERTNEXT\\n',\n '1 16 0 244 0 16 0 0 0 20 0 0 0 16 box4.dat\\n',\n '1 16 0 240 0 20 0 0 0 24 0 0 0 20 box4.dat\\n',\n '1 16 0 244 0 14 0 0 0 1 0 0 0 14 4-4edge.dat\\n',\n '1 16 0 244 0 14 0 0 0 -1 0 0 0 14 4-4ndis.dat\\n',\n '0 BFC INVERTNEXT\\n',\n '1 16 0 240 0 6 0 0 0 4 0 0 0 6 4-4cyli.dat\\n',\n '1 16 0 240 0 6 0 0 0 1 0 0 0 6 4-4edge.dat\\n',\n '1 16 0 240 0 8 0 0 0 1 0 0 0 8 4-4edge.dat\\n',\n '1 16 0 240 0 16 0 0 0 1 0 0 0 16 4-4edge.dat\\n',\n '1 16 0 240 0 16 0 0 0 1 0 0 0 16 4-4ndis.dat\\n',\n '1 16 0 240 0 2 0 0 0 1 0 0 0 2 4-4ring3.dat\\n',\n '1 16 0 236 0 14 0 0 0 1 0 0 0 14 4-4edge.dat\\n',\n '0 BFC INVERTNEXT\\n',\n '1 16 0 236 0 14 0 0 0 8 0 0 0 14 4-4cyli.dat\\n',\n '1 16 0 232 0 14 0 0 0 1 0 0 0 14 4-4edge.dat\\n',\n '1 16 0 232 0 2 0 0 0 1 0 0 0 2 4-4ring7.dat\\n',\n '1 16 0 232 0 16 0 0 0 1 0 0 0 16 4-4edge.dat\\n',\n '1 16 0 232 0 16 0 0 0 8 0 0 0 16 4-4cyli.dat\\n',\n '\\n',\n '4 16 -20 264 20 -16 264 16 16 264 16 20 264 20\\n',\n '4 16 -20 264 -20 -16 264 -16 -16 264 16 -20 264 20\\n',\n '4 16 20 264 -20 16 264 -16 -16 264 -16 -20 264 -20\\n',\n '4 16 20 264 20 16 264 16 16 264 -16 20 264 -20\\n',\n '\\n',\n '4 16 -16 244 16 -14 244 14 14 244 14 16 244 16\\n',\n '4 16 -16 244 -16 -14 244 -14 -14 244 14 -16 244 16\\n',\n '4 16 16 244 -16 14 244 -14 -14 244 -14 -16 244 -16\\n',\n '4 16 16 244 16 14 244 14 14 244 -14 16 244 -16\\n',\n '\\n',\n '4 16 20 240 20 16 240 16 -16 240 16 -20 240 20\\n',\n '4 16 -20 240 20 -16 240 16 -16 240 -16 -20 240 -20\\n',\n '4 16 -20 240 -20 -16 240 -16 16 240 -16 20 240 -20\\n',\n '4 16 20 240 -20 16 240 -16 16 240 16 20 240 20\\n']"
     },
     "execution_count": 17,
     "metadata": {},
     "output_type": "execute_result"
    }
   ],
   "source": [
    "parts_content['parts/' + '6168.dat']\n"
   ],
   "metadata": {
    "collapsed": false,
    "ExecuteTime": {
     "end_time": "2023-11-22T02:58:14.212539Z",
     "start_time": "2023-11-22T02:58:14.204287Z"
    }
   },
   "id": "fa332aa4a994721e"
  },
  {
   "cell_type": "code",
   "execution_count": 20,
   "outputs": [
    {
     "data": {
      "text/plain": "['0 Circle 1.0\\n',\n '0 Name: 4-4edge.dat\\n',\n '0 Author: James Jessiman\\n',\n '0 !LDRAW_ORG Primitive UPDATE 2017-01\\n',\n '0 !LICENSE Redistributable under CCAL version 2.0 : see CAreadme.txt\\n',\n '\\n',\n '0 BFC CERTIFY CCW\\n',\n '\\n',\n '0 !HISTORY 1998-12-15 [PTadmin] Official Update 1998-10\\n',\n '0 !HISTORY 2005-12-28 [PTadmin] Official Update 2005-01\\n',\n '0 !HISTORY 2007-06-24 [PTadmin] Header formatted for Contributor Agreement\\n',\n '0 !HISTORY 2008-07-01 [PTadmin] Official Update 2008-01\\n',\n '0 !HISTORY 2017-01-15 [Steffen] BFCed\\n',\n '0 !HISTORY 2017-12-30 [PTadmin] Official Update 2017-01\\n',\n '\\n',\n '2 24 1 0 0 0.9239 0 0.3827\\n',\n '2 24 0.9239 0 0.3827 0.7071 0 0.7071\\n',\n '2 24 0.7071 0 0.7071 0.3827 0 0.9239\\n',\n '2 24 0.3827 0 0.9239 0 0 1\\n',\n '2 24 0 0 1 -0.3827 0 0.9239\\n',\n '2 24 -0.3827 0 0.9239 -0.7071 0 0.7071\\n',\n '2 24 -0.7071 0 0.7071 -0.9239 0 0.3827\\n',\n '2 24 -0.9239 0 0.3827 -1 0 -0\\n',\n '2 24 -1 0 -0 -0.9239 0 -0.3827\\n',\n '2 24 -0.9239 0 -0.3827 -0.7071 0 -0.7071\\n',\n '2 24 -0.7071 0 -0.7071 -0.3827 0 -0.9239\\n',\n '2 24 -0.3827 0 -0.9239 0 0 -1\\n',\n '2 24 0 0 -1 0.3827 0 -0.9239\\n',\n '2 24 0.3827 0 -0.9239 0.7071 0 -0.7071\\n',\n '2 24 0.7071 0 -0.7071 0.9239 0 -0.3827\\n',\n '2 24 0.9239 0 -0.3827 1 0 0\\n']"
     },
     "execution_count": 20,
     "metadata": {},
     "output_type": "execute_result"
    }
   ],
   "source": [
    "parts_content['p/' + '4-4edge.dat']"
   ],
   "metadata": {
    "collapsed": false,
    "ExecuteTime": {
     "end_time": "2023-11-22T03:06:18.366192Z",
     "start_time": "2023-11-22T03:06:18.359335Z"
    }
   },
   "id": "fbad12800bda141a"
  },
  {
   "cell_type": "code",
   "execution_count": null,
   "outputs": [],
   "source": [],
   "metadata": {
    "collapsed": false
   },
   "id": "2fb47f244bfaa718"
  }
 ],
 "metadata": {
  "kernelspec": {
   "display_name": "Python 3",
   "language": "python",
   "name": "python3"
  },
  "language_info": {
   "codemirror_mode": {
    "name": "ipython",
    "version": 2
   },
   "file_extension": ".py",
   "mimetype": "text/x-python",
   "name": "python",
   "nbconvert_exporter": "python",
   "pygments_lexer": "ipython2",
   "version": "2.7.6"
  }
 },
 "nbformat": 4,
 "nbformat_minor": 5
}
